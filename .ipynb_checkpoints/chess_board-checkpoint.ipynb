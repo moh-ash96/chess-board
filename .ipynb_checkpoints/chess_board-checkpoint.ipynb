{
 "cells": [
  {
   "cell_type": "code",
   "execution_count": 163,
   "id": "980b1903-dd3a-4a3b-886a-cf4f53dc0778",
   "metadata": {},
   "outputs": [],
   "source": [
    "import numpy as np\n",
    "import matplotlib.pyplot as plt"
   ]
  },
  {
   "cell_type": "code",
   "execution_count": 164,
   "id": "1005ba98-b85f-45e9-b87e-b63a895226d3",
   "metadata": {},
   "outputs": [],
   "source": [
    "class ChessBoard:\n",
    "    white = (1,1,1)\n",
    "    red = (1,0,0)\n",
    "    blue = (0,0,1)\n",
    "    red_place = (0,0)\n",
    "    blue_place = (0,0)\n",
    "    def __init__(self):\n",
    "        self.grid = np.zeros((8,8,3))\n",
    "        for i in range(8):\n",
    "            if i %2 !=0:\n",
    "                self.grid[0,i] = ChessBoard.white\n",
    "                self.grid[2,i] = ChessBoard.white\n",
    "                self.grid[4,i] = ChessBoard.white\n",
    "                self.grid[6,i] = ChessBoard.white\n",
    "            if not i %2!=0:\n",
    "                self.grid[1,i] = ChessBoard.white\n",
    "                self.grid[3,i] = ChessBoard.white\n",
    "                self.grid[5,i] = ChessBoard.white\n",
    "                self.grid[7,i] = ChessBoard.white\n",
    "    \n",
    "    def add_red(self, row, col):\n",
    "        \"\"\" accepts a row and column as input which colors corresponding cell\"\"\"\n",
    "        self.grid[row, col] = ChessBoard.red\n",
    "        ChessBoard.red_place = (row,col)\n",
    "        \n",
    "\n",
    "    def add_blue(self, row, col):\n",
    "        \"\"\" accepts a row and column as input which colors corresponding cell\"\"\"\n",
    "        self.grid[row, col] = ChessBoard.blue\n",
    "        contents = (row, col)\n",
    "        ChessBoard.blue_place = (row,col)\n",
    "\n",
    "    \n",
    "    def render(self):\n",
    "        \"\"\"displays the chess board on screen with red and blue shown in correct locations\"\"\"\n",
    "        plt.imshow(self.grid)\n",
    "\n",
    "    def is_under_attack(self):\n",
    "        \"\"\" return True if red is under attack by a blue piece horizontally, vertically or diagonally\"\"\"\n",
    "        if ChessBoard.red_place[0] == ChessBoard.blue_place[0] or ChessBoard.red_place[1] == ChessBoard.blue_place[1] or abs(ChessBoard.red_place[0] - ChessBoard.blue_place[0]) == abs(ChessBoard.red_place[1] - ChessBoard.blue_place[1]):\n",
    "            return True\n",
    "        else:\n",
    "            return False"
   ]
  },
  {
   "cell_type": "code",
   "execution_count": 165,
   "id": "897a5183-0428-4f52-9a60-9cb45ee68eca",
   "metadata": {},
   "outputs": [
    {
     "name": "stdout",
     "output_type": "stream",
     "text": [
      "None\n"
     ]
    }
   ],
   "source": [
    "# chess = ChessBoard()\n",
    "# chess.add_red(5,5)\n",
    "print(chess.add_blue(5,2))\n",
    "# print(chess.add_blue(row,col))\n",
    "# chess.render()\n",
    "# chess.is_under_attack()"
   ]
  },
  {
   "cell_type": "code",
   "execution_count": 179,
   "id": "52d750f5-98fc-403b-97e9-5ce7c591365e",
   "metadata": {},
   "outputs": [
    {
     "name": "stdout",
     "output_type": "stream",
     "text": [
      "passed\n"
     ]
    }
   ],
   "source": [
    "\n",
    "\n",
    "\n",
    "chess = ChessBoard()\n",
    "chess.add_red(0,5)\n",
    "chess.add_blue(2,5)\n",
    "assert chess.is_under_attack() == True\n",
    "\n",
    "\n",
    "chess2 = ChessBoard()\n",
    "chess2.add_red(5,2)\n",
    "chess2.add_blue(4,2)\n",
    "assert chess2.is_under_attack() == True\n",
    "\n",
    "\n",
    "\n",
    "chess3 = ChessBoard()\n",
    "chess3.add_red(2,5)\n",
    "chess3.add_blue(5,2)\n",
    "assert chess3.is_under_attack() == True\n",
    "\n",
    "\n",
    "chess4 = ChessBoard()\n",
    "chess4.add_red(1,5)\n",
    "chess4.add_blue(5,2)\n",
    "assert chess4.is_under_attack() == False\n",
    "    \n",
    "print('All Tests Passed')"
   ]
  },
  {
   "cell_type": "code",
   "execution_count": null,
   "id": "9d20ba7f-4d71-415e-ab2b-1604961e11f5",
   "metadata": {},
   "outputs": [],
   "source": []
  },
  {
   "cell_type": "code",
   "execution_count": null,
   "id": "b6682465-4d54-4ed4-8baf-c7266bb3116a",
   "metadata": {},
   "outputs": [],
   "source": []
  },
  {
   "cell_type": "code",
   "execution_count": null,
   "id": "b71ac106-0c98-4bf8-81ed-d156ffad8fb5",
   "metadata": {},
   "outputs": [],
   "source": []
  }
 ],
 "metadata": {
  "kernelspec": {
   "display_name": "Python 3",
   "language": "python",
   "name": "python3"
  },
  "language_info": {
   "codemirror_mode": {
    "name": "ipython",
    "version": 3
   },
   "file_extension": ".py",
   "mimetype": "text/x-python",
   "name": "python",
   "nbconvert_exporter": "python",
   "pygments_lexer": "ipython3",
   "version": "3.9.4"
  }
 },
 "nbformat": 4,
 "nbformat_minor": 5
}
